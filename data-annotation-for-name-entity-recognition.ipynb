{
 "cells": [
  {
   "cell_type": "code",
   "execution_count": 1,
   "id": "13f0e25b",
   "metadata": {
    "execution": {
     "iopub.execute_input": "2025-05-19T06:07:46.104982Z",
     "iopub.status.busy": "2025-05-19T06:07:46.104708Z",
     "iopub.status.idle": "2025-05-19T06:07:53.600783Z",
     "shell.execute_reply": "2025-05-19T06:07:53.599907Z"
    },
    "id": "UK7Vky1rrBuo",
    "outputId": "08d84aef-a6f0-4265-dcaf-611dbbbf2736",
    "papermill": {
     "duration": 7.50692,
     "end_time": "2025-05-19T06:07:53.602317",
     "exception": false,
     "start_time": "2025-05-19T06:07:46.095397",
     "status": "completed"
    },
    "tags": []
   },
   "outputs": [
    {
     "name": "stdout",
     "output_type": "stream",
     "text": [
      "Collecting spacy-annotator\r\n",
      "  Downloading spacy_annotator-2.1.4.tar.gz (6.0 kB)\r\n",
      "  Preparing metadata (setup.py) ... \u001b[?25l\u001b[?25hdone\r\n",
      "Requirement already satisfied: ipython in /usr/local/lib/python3.11/dist-packages (from spacy-annotator) (7.34.0)\r\n",
      "Requirement already satisfied: ipywidgets>=8 in /usr/local/lib/python3.11/dist-packages (from spacy-annotator) (8.1.5)\r\n",
      "Requirement already satisfied: pandas in /usr/local/lib/python3.11/dist-packages (from spacy-annotator) (2.2.3)\r\n",
      "Requirement already satisfied: spacy in /usr/local/lib/python3.11/dist-packages (from spacy-annotator) (3.8.5)\r\n",
      "Requirement already satisfied: comm>=0.1.3 in /usr/local/lib/python3.11/dist-packages (from ipywidgets>=8->spacy-annotator) (0.2.2)\r\n",
      "Requirement already satisfied: traitlets>=4.3.1 in /usr/local/lib/python3.11/dist-packages (from ipywidgets>=8->spacy-annotator) (5.7.1)\r\n",
      "Requirement already satisfied: widgetsnbextension~=4.0.12 in /usr/local/lib/python3.11/dist-packages (from ipywidgets>=8->spacy-annotator) (4.0.14)\r\n",
      "Requirement already satisfied: jupyterlab-widgets~=3.0.12 in /usr/local/lib/python3.11/dist-packages (from ipywidgets>=8->spacy-annotator) (3.0.13)\r\n",
      "Requirement already satisfied: setuptools>=18.5 in /usr/local/lib/python3.11/dist-packages (from ipython->spacy-annotator) (75.2.0)\r\n",
      "Requirement already satisfied: jedi>=0.16 in /usr/local/lib/python3.11/dist-packages (from ipython->spacy-annotator) (0.19.2)\r\n",
      "Requirement already satisfied: decorator in /usr/local/lib/python3.11/dist-packages (from ipython->spacy-annotator) (4.4.2)\r\n",
      "Requirement already satisfied: pickleshare in /usr/local/lib/python3.11/dist-packages (from ipython->spacy-annotator) (0.7.5)\r\n",
      "Requirement already satisfied: prompt-toolkit!=3.0.0,!=3.0.1,<3.1.0,>=2.0.0 in /usr/local/lib/python3.11/dist-packages (from ipython->spacy-annotator) (3.0.50)\r\n",
      "Requirement already satisfied: pygments in /usr/local/lib/python3.11/dist-packages (from ipython->spacy-annotator) (2.19.1)\r\n",
      "Requirement already satisfied: backcall in /usr/local/lib/python3.11/dist-packages (from ipython->spacy-annotator) (0.2.0)\r\n",
      "Requirement already satisfied: matplotlib-inline in /usr/local/lib/python3.11/dist-packages (from ipython->spacy-annotator) (0.1.7)\r\n",
      "Requirement already satisfied: pexpect>4.3 in /usr/local/lib/python3.11/dist-packages (from ipython->spacy-annotator) (4.9.0)\r\n",
      "Requirement already satisfied: numpy>=1.23.2 in /usr/local/lib/python3.11/dist-packages (from pandas->spacy-annotator) (1.26.4)\r\n",
      "Requirement already satisfied: python-dateutil>=2.8.2 in /usr/local/lib/python3.11/dist-packages (from pandas->spacy-annotator) (2.9.0.post0)\r\n",
      "Requirement already satisfied: pytz>=2020.1 in /usr/local/lib/python3.11/dist-packages (from pandas->spacy-annotator) (2025.2)\r\n",
      "Requirement already satisfied: tzdata>=2022.7 in /usr/local/lib/python3.11/dist-packages (from pandas->spacy-annotator) (2025.2)\r\n",
      "Requirement already satisfied: spacy-legacy<3.1.0,>=3.0.11 in /usr/local/lib/python3.11/dist-packages (from spacy->spacy-annotator) (3.0.12)\r\n",
      "Requirement already satisfied: spacy-loggers<2.0.0,>=1.0.0 in /usr/local/lib/python3.11/dist-packages (from spacy->spacy-annotator) (1.0.5)\r\n",
      "Requirement already satisfied: murmurhash<1.1.0,>=0.28.0 in /usr/local/lib/python3.11/dist-packages (from spacy->spacy-annotator) (1.0.12)\r\n",
      "Requirement already satisfied: cymem<2.1.0,>=2.0.2 in /usr/local/lib/python3.11/dist-packages (from spacy->spacy-annotator) (2.0.11)\r\n",
      "Requirement already satisfied: preshed<3.1.0,>=3.0.2 in /usr/local/lib/python3.11/dist-packages (from spacy->spacy-annotator) (3.0.9)\r\n",
      "Requirement already satisfied: thinc<8.4.0,>=8.3.4 in /usr/local/lib/python3.11/dist-packages (from spacy->spacy-annotator) (8.3.4)\r\n",
      "Requirement already satisfied: wasabi<1.2.0,>=0.9.1 in /usr/local/lib/python3.11/dist-packages (from spacy->spacy-annotator) (1.1.3)\r\n",
      "Requirement already satisfied: srsly<3.0.0,>=2.4.3 in /usr/local/lib/python3.11/dist-packages (from spacy->spacy-annotator) (2.5.1)\r\n",
      "Requirement already satisfied: catalogue<2.1.0,>=2.0.6 in /usr/local/lib/python3.11/dist-packages (from spacy->spacy-annotator) (2.0.10)\r\n",
      "Requirement already satisfied: weasel<0.5.0,>=0.1.0 in /usr/local/lib/python3.11/dist-packages (from spacy->spacy-annotator) (0.4.1)\r\n",
      "Requirement already satisfied: typer<1.0.0,>=0.3.0 in /usr/local/lib/python3.11/dist-packages (from spacy->spacy-annotator) (0.15.2)\r\n",
      "Requirement already satisfied: tqdm<5.0.0,>=4.38.0 in /usr/local/lib/python3.11/dist-packages (from spacy->spacy-annotator) (4.67.1)\r\n",
      "Requirement already satisfied: requests<3.0.0,>=2.13.0 in /usr/local/lib/python3.11/dist-packages (from spacy->spacy-annotator) (2.32.3)\r\n",
      "Requirement already satisfied: pydantic!=1.8,!=1.8.1,<3.0.0,>=1.7.4 in /usr/local/lib/python3.11/dist-packages (from spacy->spacy-annotator) (2.11.4)\r\n",
      "Requirement already satisfied: jinja2 in /usr/local/lib/python3.11/dist-packages (from spacy->spacy-annotator) (3.1.6)\r\n",
      "Requirement already satisfied: packaging>=20.0 in /usr/local/lib/python3.11/dist-packages (from spacy->spacy-annotator) (25.0)\r\n",
      "Requirement already satisfied: langcodes<4.0.0,>=3.2.0 in /usr/local/lib/python3.11/dist-packages (from spacy->spacy-annotator) (3.5.0)\r\n",
      "Requirement already satisfied: parso<0.9.0,>=0.8.4 in /usr/local/lib/python3.11/dist-packages (from jedi>=0.16->ipython->spacy-annotator) (0.8.4)\r\n",
      "Requirement already satisfied: language-data>=1.2 in /usr/local/lib/python3.11/dist-packages (from langcodes<4.0.0,>=3.2.0->spacy->spacy-annotator) (1.3.0)\r\n",
      "Requirement already satisfied: mkl_fft in /usr/local/lib/python3.11/dist-packages (from numpy>=1.23.2->pandas->spacy-annotator) (1.3.8)\r\n",
      "Requirement already satisfied: mkl_random in /usr/local/lib/python3.11/dist-packages (from numpy>=1.23.2->pandas->spacy-annotator) (1.2.4)\r\n",
      "Requirement already satisfied: mkl_umath in /usr/local/lib/python3.11/dist-packages (from numpy>=1.23.2->pandas->spacy-annotator) (0.1.1)\r\n",
      "Requirement already satisfied: mkl in /usr/local/lib/python3.11/dist-packages (from numpy>=1.23.2->pandas->spacy-annotator) (2025.1.0)\r\n",
      "Requirement already satisfied: tbb4py in /usr/local/lib/python3.11/dist-packages (from numpy>=1.23.2->pandas->spacy-annotator) (2022.1.0)\r\n",
      "Requirement already satisfied: mkl-service in /usr/local/lib/python3.11/dist-packages (from numpy>=1.23.2->pandas->spacy-annotator) (2.4.1)\r\n",
      "Requirement already satisfied: ptyprocess>=0.5 in /usr/local/lib/python3.11/dist-packages (from pexpect>4.3->ipython->spacy-annotator) (0.7.0)\r\n",
      "Requirement already satisfied: wcwidth in /usr/local/lib/python3.11/dist-packages (from prompt-toolkit!=3.0.0,!=3.0.1,<3.1.0,>=2.0.0->ipython->spacy-annotator) (0.2.13)\r\n",
      "Requirement already satisfied: annotated-types>=0.6.0 in /usr/local/lib/python3.11/dist-packages (from pydantic!=1.8,!=1.8.1,<3.0.0,>=1.7.4->spacy->spacy-annotator) (0.7.0)\r\n",
      "Requirement already satisfied: pydantic-core==2.33.2 in /usr/local/lib/python3.11/dist-packages (from pydantic!=1.8,!=1.8.1,<3.0.0,>=1.7.4->spacy->spacy-annotator) (2.33.2)\r\n",
      "Requirement already satisfied: typing-extensions>=4.12.2 in /usr/local/lib/python3.11/dist-packages (from pydantic!=1.8,!=1.8.1,<3.0.0,>=1.7.4->spacy->spacy-annotator) (4.13.2)\r\n",
      "Requirement already satisfied: typing-inspection>=0.4.0 in /usr/local/lib/python3.11/dist-packages (from pydantic!=1.8,!=1.8.1,<3.0.0,>=1.7.4->spacy->spacy-annotator) (0.4.0)\r\n",
      "Requirement already satisfied: six>=1.5 in /usr/local/lib/python3.11/dist-packages (from python-dateutil>=2.8.2->pandas->spacy-annotator) (1.17.0)\r\n",
      "Requirement already satisfied: charset-normalizer<4,>=2 in /usr/local/lib/python3.11/dist-packages (from requests<3.0.0,>=2.13.0->spacy->spacy-annotator) (3.4.2)\r\n",
      "Requirement already satisfied: idna<4,>=2.5 in /usr/local/lib/python3.11/dist-packages (from requests<3.0.0,>=2.13.0->spacy->spacy-annotator) (3.10)\r\n",
      "Requirement already satisfied: urllib3<3,>=1.21.1 in /usr/local/lib/python3.11/dist-packages (from requests<3.0.0,>=2.13.0->spacy->spacy-annotator) (2.4.0)\r\n",
      "Requirement already satisfied: certifi>=2017.4.17 in /usr/local/lib/python3.11/dist-packages (from requests<3.0.0,>=2.13.0->spacy->spacy-annotator) (2025.4.26)\r\n",
      "Requirement already satisfied: blis<1.3.0,>=1.2.0 in /usr/local/lib/python3.11/dist-packages (from thinc<8.4.0,>=8.3.4->spacy->spacy-annotator) (1.2.1)\r\n",
      "Requirement already satisfied: confection<1.0.0,>=0.0.1 in /usr/local/lib/python3.11/dist-packages (from thinc<8.4.0,>=8.3.4->spacy->spacy-annotator) (0.1.5)\r\n",
      "Requirement already satisfied: click>=8.0.0 in /usr/local/lib/python3.11/dist-packages (from typer<1.0.0,>=0.3.0->spacy->spacy-annotator) (8.1.8)\r\n",
      "Requirement already satisfied: shellingham>=1.3.0 in /usr/local/lib/python3.11/dist-packages (from typer<1.0.0,>=0.3.0->spacy->spacy-annotator) (1.5.4)\r\n",
      "Requirement already satisfied: rich>=10.11.0 in /usr/local/lib/python3.11/dist-packages (from typer<1.0.0,>=0.3.0->spacy->spacy-annotator) (14.0.0)\r\n",
      "Requirement already satisfied: cloudpathlib<1.0.0,>=0.7.0 in /usr/local/lib/python3.11/dist-packages (from weasel<0.5.0,>=0.1.0->spacy->spacy-annotator) (0.21.0)\r\n",
      "Requirement already satisfied: smart-open<8.0.0,>=5.2.1 in /usr/local/lib/python3.11/dist-packages (from weasel<0.5.0,>=0.1.0->spacy->spacy-annotator) (7.1.0)\r\n",
      "Requirement already satisfied: MarkupSafe>=2.0 in /usr/local/lib/python3.11/dist-packages (from jinja2->spacy->spacy-annotator) (3.0.2)\r\n",
      "Requirement already satisfied: marisa-trie>=1.1.0 in /usr/local/lib/python3.11/dist-packages (from language-data>=1.2->langcodes<4.0.0,>=3.2.0->spacy->spacy-annotator) (1.2.1)\r\n",
      "Requirement already satisfied: markdown-it-py>=2.2.0 in /usr/local/lib/python3.11/dist-packages (from rich>=10.11.0->typer<1.0.0,>=0.3.0->spacy->spacy-annotator) (3.0.0)\r\n",
      "Requirement already satisfied: wrapt in /usr/local/lib/python3.11/dist-packages (from smart-open<8.0.0,>=5.2.1->weasel<0.5.0,>=0.1.0->spacy->spacy-annotator) (1.17.2)\r\n",
      "Requirement already satisfied: intel-openmp<2026,>=2024 in /usr/local/lib/python3.11/dist-packages (from mkl->numpy>=1.23.2->pandas->spacy-annotator) (2024.2.0)\r\n",
      "Requirement already satisfied: tbb==2022.* in /usr/local/lib/python3.11/dist-packages (from mkl->numpy>=1.23.2->pandas->spacy-annotator) (2022.1.0)\r\n",
      "Requirement already satisfied: tcmlib==1.* in /usr/local/lib/python3.11/dist-packages (from tbb==2022.*->mkl->numpy>=1.23.2->pandas->spacy-annotator) (1.3.0)\r\n",
      "Requirement already satisfied: intel-cmplr-lib-rt in /usr/local/lib/python3.11/dist-packages (from mkl_umath->numpy>=1.23.2->pandas->spacy-annotator) (2024.2.0)\r\n",
      "Requirement already satisfied: intel-cmplr-lib-ur==2024.2.0 in /usr/local/lib/python3.11/dist-packages (from intel-openmp<2026,>=2024->mkl->numpy>=1.23.2->pandas->spacy-annotator) (2024.2.0)\r\n",
      "Requirement already satisfied: mdurl~=0.1 in /usr/local/lib/python3.11/dist-packages (from markdown-it-py>=2.2.0->rich>=10.11.0->typer<1.0.0,>=0.3.0->spacy->spacy-annotator) (0.1.2)\r\n",
      "Building wheels for collected packages: spacy-annotator\r\n",
      "  Building wheel for spacy-annotator (setup.py) ... \u001b[?25l\u001b[?25hdone\r\n",
      "  Created wheel for spacy-annotator: filename=spacy_annotator-2.1.4-py3-none-any.whl size=6002 sha256=eabb2acb17a02656f61d6afb6ba4cd1803cf037047719074f0751221db27d665\r\n",
      "  Stored in directory: /root/.cache/pip/wheels/f2/28/76/ca1225374dd362b23041fedc674df3d68bf98e82ffca3e68fe\r\n",
      "Successfully built spacy-annotator\r\n",
      "Installing collected packages: spacy-annotator\r\n",
      "Successfully installed spacy-annotator-2.1.4\r\n"
     ]
    }
   ],
   "source": [
    "! pip install spacy-annotator"
   ]
  },
  {
   "cell_type": "code",
   "execution_count": 2,
   "id": "966cbcfb",
   "metadata": {
    "execution": {
     "iopub.execute_input": "2025-05-19T06:07:53.620113Z",
     "iopub.status.busy": "2025-05-19T06:07:53.619623Z",
     "iopub.status.idle": "2025-05-19T06:08:03.625861Z",
     "shell.execute_reply": "2025-05-19T06:08:03.624988Z"
    },
    "id": "fPXpmUhNpga4",
    "papermill": {
     "duration": 10.016627,
     "end_time": "2025-05-19T06:08:03.627524",
     "exception": false,
     "start_time": "2025-05-19T06:07:53.610897",
     "status": "completed"
    },
    "tags": []
   },
   "outputs": [],
   "source": [
    "import pandas as pd\n",
    "import spacy\n",
    "import spacy_annotator as spa\n",
    "from pprint import pprint"
   ]
  },
  {
   "cell_type": "code",
   "execution_count": 3,
   "id": "dcc09327",
   "metadata": {
    "execution": {
     "iopub.execute_input": "2025-05-19T06:08:03.645395Z",
     "iopub.status.busy": "2025-05-19T06:08:03.644906Z",
     "iopub.status.idle": "2025-05-19T06:08:03.651574Z",
     "shell.execute_reply": "2025-05-19T06:08:03.650831Z"
    },
    "id": "9zOvN8pYplcj",
    "papermill": {
     "duration": 0.01716,
     "end_time": "2025-05-19T06:08:03.652982",
     "exception": false,
     "start_time": "2025-05-19T06:08:03.635822",
     "status": "completed"
    },
    "tags": []
   },
   "outputs": [],
   "source": [
    "sample_text = \"\"\" The company was founded in December 2002 by Reid Hoffman and the founding team members from PayPal and Socialnet.com (Allen Blue, Eric Ly, Jean-Luc Vaillant, Lee Hower, Konstantin Guericke, Stephen Beitzel, David Eves, Ian McNish, Yan Pujante, Chris Saccheri).In late 2003, Sequoia Capital led the Series A investment in the company.In August 2004, LinkedIn reached 1 million users.In March 2006, LinkedIn achieved its first month of profitability.In April 2007, LinkedIn reached 10 million users.In February 2008, LinkedIn launched a mobile version of the site.\n",
    "\n",
    "In June 2008, Sequoia Capital, Greylock Partners, and other venture capital firms purchased a 5% stake in the company for $53 million, giving the company a post-money valuation of approximately $1 billion. In November 2009, LinkedIn opened its office in Mumbai and soon thereafter in Sydney, as it started its Asia-Pacific team expansion. In 2010 LinkedIn opened an International Headquarters in Dublin, Ireland,received a $20 million investment from Tiger Global Management LLC at a valuation of approximately $2 billion,announced its first acquisition, Mspoke,and improved its 1% premium subscription ratio. In October of that year, Silicon Valley Insider ranked the company No. 10 on its Top 100 List of most valuable startups. By December, the company was valued at $1.575 billion in private markets. LinkedIn started its India operations in 2009 and a major part of the first year was dedicated to understanding professionals in India and educating members to leverage LinkedIn for career development.\n",
    "\n",
    "LinkedIn office building at 222 Second Street in San Francisco (opened in March 2016)\n",
    "\n",
    "LinkedIn office in Toronto inside the Toronto Eaton Centre\n",
    "\n",
    "LinkedIn filed for an initial public offering in January 2011. The company traded its first shares on May 19, 2011, under the NYSE symbol \"LNKD\", at $45 per share. Shares of LinkedIn rose as much as 171% on their first day of trade on the New York Stock Exchange and closed at $94.25, more than 109% above IPO price. Shortly after the IPO, the site's underlying infrastructure was revised to allow accelerated revision-release cycles.In 2011 LinkedIn earned $154.6 million in advertising revenue alone, surpassing Twitter, which earned $139.5 million.LinkedIn's fourth-quarter 2011, earnings soared because of the company's increase in success in the social media world.[33] By this point LinkedIn had about 2,100 full-time employees compared to the 500 that it had in 2010.\n",
    "\n",
    "In April 2014 LinkedIn announced that it had leased 222 Second Street, a 26-story building under construction in San Francisco's SoMa district, to accommodate up to 2,500 of its employees, with the lease covering 10 years.The goal was to join all San Francisco-based staff (1,250 as of January 2016) in one building, bringing sales and marketing employees together with the research and development team.They started to move in in March 2016. In February 2016 following an earnings report, LinkedIn's shares dropped 43.6% within a single day, down to $108.38 per share. LinkedIn lost $10 billion of its market capitalization that day.\n",
    "\n",
    "In 2016 access to LinkedIn was blocked by Russian authorities for non-compliance with the 2015 national legislation that requires social media networks to store citizens' personal data on servers located in Russia.\n",
    "\n",
    "In June 2016 Microsoft announced that it would acquire LinkedIn for $196 a share, a total value of $26.2 billion and the second largest acquisition made by Microsoft to date. The acquisition would be an all-cash, debt-financed transaction. Microsoft would allow LinkedIn to \"retain its distinct brand, culture and independence\", with Weiner to remain as CEO, who would then report to Microsoft CEO Satya Nadella. Analysts believed Microsoft saw the opportunity to integrate LinkedIn with its Office product suite to help better integrate the professional network system with its products. The deal was completed on December 8, 2016.\n",
    "\n",
    "In late 2016 LinkedIn announced a planned increase of 200 new positions in its Dublin office, which would bring the total employee count to 1,200.Since 2017 94% of B2B marketers use LinkedIn to distribute content.\n",
    "\n",
    "Soon after LinkedIn's acquisition by Microsoft, LinkedIn's new desktop version was introduced.The new version was meant to make the user experience seamless across mobile and desktop. Some of the changes were made according to the feedback received from the previously launched mobile app. Features that were not heavily used were removed. For example, the contact tagging and filtering features are not supported anymore.\n",
    "\n",
    "Following the launch of the new user interface (UI), some users, complained about the missing features which were there in the older version, slowness, and bugs in it. The issues were faced by both free and premium users, and with both the desktop version and the mobile version of the site.\n",
    "\n",
    "In 2019 LinkedIn launched globally the feature Open for Business that enables freelancers to be discovered on the platform.LinkedIn Events was launched in the same year.\n",
    "\n",
    "In June 2020 Jeff Weiner stepped down as CEO and become executive chairman after 11 years in the role. Ryan Roslansky stepped up as CEO from his previous position as the senior vice president of product.In late July 2020, LinkedIn announced it laid off 960 employees, about 6 percent of total workforce, from the talent acquisition and global sales teams. In an email to all employees, CEO Ryan Roslansky said the cuts were due to effects of the global COVID-19 pandemic.In April 2021 CyberNews claimed that 500 million LinkedIn's accounts have leaked online.However, LinkedIn stated that \"We have investigated an alleged set of LinkedIn data that has been posted for sale and have determined that it is actually an aggregation of data from a number of websites and companies\".\n",
    "\n",
    "In June 2021 PrivacySharks claimed that more than 700 million LinkedIn records was on sale on a hacker forum.LinkedIn later stated that this is not a breach, but scraped data which is also a violation of their Terms of Service.\n",
    "\n",
    "Microsoft ended LinkedIn operations in China in October 2021\"\"\""
   ]
  },
  {
   "cell_type": "code",
   "execution_count": 4,
   "id": "457df13b",
   "metadata": {
    "execution": {
     "iopub.execute_input": "2025-05-19T06:08:03.675722Z",
     "iopub.status.busy": "2025-05-19T06:08:03.675464Z",
     "iopub.status.idle": "2025-05-19T06:08:03.680638Z",
     "shell.execute_reply": "2025-05-19T06:08:03.679679Z"
    },
    "id": "XHpG09zbplfs",
    "outputId": "79ce3be7-4d10-4710-afd4-458af5777fd7",
    "papermill": {
     "duration": 0.014976,
     "end_time": "2025-05-19T06:08:03.681831",
     "exception": false,
     "start_time": "2025-05-19T06:08:03.666855",
     "status": "completed"
    },
    "tags": []
   },
   "outputs": [
    {
     "name": "stdout",
     "output_type": "stream",
     "text": [
      "15\n",
      "[' The company was founded in December 2002 by Reid Hoffman and the founding team members from PayPal and Socialnet.com (Allen Blue, Eric Ly, Jean-Luc Vaillant, Lee Hower, Konstantin Guericke, Stephen Beitzel, David Eves, Ian McNish, Yan Pujante, Chris Saccheri).In late 2003, Sequoia Capital led the Series A investment in the company.In August 2004, LinkedIn reached 1 million users.In March 2006, LinkedIn achieved its first month of profitability.In April 2007, LinkedIn reached 10 million users.In February 2008, LinkedIn launched a mobile version of the site.', 'In June 2008, Sequoia Capital, Greylock Partners, and other venture capital firms purchased a 5% stake in the company for $53 million, giving the company a post-money valuation of approximately $1 billion. In November 2009, LinkedIn opened its office in Mumbai and soon thereafter in Sydney, as it started its Asia-Pacific team expansion. In 2010 LinkedIn opened an International Headquarters in Dublin, Ireland,received a $20 million investment from Tiger Global Management LLC at a valuation of approximately $2 billion,announced its first acquisition, Mspoke,and improved its 1% premium subscription ratio. In October of that year, Silicon Valley Insider ranked the company No. 10 on its Top 100 List of most valuable startups. By December, the company was valued at $1.575 billion in private markets. LinkedIn started its India operations in 2009 and a major part of the first year was dedicated to understanding professionals in India and educating members to leverage LinkedIn for career development.', 'LinkedIn office building at 222 Second Street in San Francisco (opened in March 2016)', 'LinkedIn office in Toronto inside the Toronto Eaton Centre', 'LinkedIn filed for an initial public offering in January 2011. The company traded its first shares on May 19, 2011, under the NYSE symbol \"LNKD\", at $45 per share. Shares of LinkedIn rose as much as 171% on their first day of trade on the New York Stock Exchange and closed at $94.25, more than 109% above IPO price. Shortly after the IPO, the site\\'s underlying infrastructure was revised to allow accelerated revision-release cycles.In 2011 LinkedIn earned $154.6 million in advertising revenue alone, surpassing Twitter, which earned $139.5 million.LinkedIn\\'s fourth-quarter 2011, earnings soared because of the company\\'s increase in success in the social media world.[33] By this point LinkedIn had about 2,100 full-time employees compared to the 500 that it had in 2010.', \"In April 2014 LinkedIn announced that it had leased 222 Second Street, a 26-story building under construction in San Francisco's SoMa district, to accommodate up to 2,500 of its employees, with the lease covering 10 years.The goal was to join all San Francisco-based staff (1,250 as of January 2016) in one building, bringing sales and marketing employees together with the research and development team.They started to move in in March 2016. In February 2016 following an earnings report, LinkedIn's shares dropped 43.6% within a single day, down to $108.38 per share. LinkedIn lost $10 billion of its market capitalization that day.\", \"In 2016 access to LinkedIn was blocked by Russian authorities for non-compliance with the 2015 national legislation that requires social media networks to store citizens' personal data on servers located in Russia.\", 'In June 2016 Microsoft announced that it would acquire LinkedIn for $196 a share, a total value of $26.2 billion and the second largest acquisition made by Microsoft to date. The acquisition would be an all-cash, debt-financed transaction. Microsoft would allow LinkedIn to \"retain its distinct brand, culture and independence\", with Weiner to remain as CEO, who would then report to Microsoft CEO Satya Nadella. Analysts believed Microsoft saw the opportunity to integrate LinkedIn with its Office product suite to help better integrate the professional network system with its products. The deal was completed on December 8, 2016.', 'In late 2016 LinkedIn announced a planned increase of 200 new positions in its Dublin office, which would bring the total employee count to 1,200.Since 2017 94% of B2B marketers use LinkedIn to distribute content.', \"Soon after LinkedIn's acquisition by Microsoft, LinkedIn's new desktop version was introduced.The new version was meant to make the user experience seamless across mobile and desktop. Some of the changes were made according to the feedback received from the previously launched mobile app. Features that were not heavily used were removed. For example, the contact tagging and filtering features are not supported anymore.\", 'Following the launch of the new user interface (UI), some users, complained about the missing features which were there in the older version, slowness, and bugs in it. The issues were faced by both free and premium users, and with both the desktop version and the mobile version of the site.', 'In 2019 LinkedIn launched globally the feature Open for Business that enables freelancers to be discovered on the platform.LinkedIn Events was launched in the same year.', 'In June 2020 Jeff Weiner stepped down as CEO and become executive chairman after 11 years in the role. Ryan Roslansky stepped up as CEO from his previous position as the senior vice president of product.In late July 2020, LinkedIn announced it laid off 960 employees, about 6 percent of total workforce, from the talent acquisition and global sales teams. In an email to all employees, CEO Ryan Roslansky said the cuts were due to effects of the global COVID-19 pandemic.In April 2021 CyberNews claimed that 500 million LinkedIn\\'s accounts have leaked online.However, LinkedIn stated that \"We have investigated an alleged set of LinkedIn data that has been posted for sale and have determined that it is actually an aggregation of data from a number of websites and companies\".', 'In June 2021 PrivacySharks claimed that more than 700 million LinkedIn records was on sale on a hacker forum.LinkedIn later stated that this is not a breach, but scraped data which is also a violation of their Terms of Service.', 'Microsoft ended LinkedIn operations in China in October 2021']\n"
     ]
    }
   ],
   "source": [
    "sample_text_list = sample_text.split('\\n')\n",
    "sample_text_list = [item for item in sample_text_list if item ]\n",
    "print(len(sample_text_list))\n",
    "print(sample_text_list)"
   ]
  },
  {
   "cell_type": "code",
   "execution_count": 5,
   "id": "30af0460",
   "metadata": {
    "execution": {
     "iopub.execute_input": "2025-05-19T06:08:03.698962Z",
     "iopub.status.busy": "2025-05-19T06:08:03.698717Z",
     "iopub.status.idle": "2025-05-19T06:08:03.723276Z",
     "shell.execute_reply": "2025-05-19T06:08:03.722472Z"
    },
    "id": "KQ_AxHnEpliu",
    "outputId": "02da7bc9-bb94-435f-fe94-9ddaab1fd7f8",
    "papermill": {
     "duration": 0.034544,
     "end_time": "2025-05-19T06:08:03.724563",
     "exception": false,
     "start_time": "2025-05-19T06:08:03.690019",
     "status": "completed"
    },
    "tags": []
   },
   "outputs": [
    {
     "data": {
      "text/html": [
       "<div>\n",
       "<style scoped>\n",
       "    .dataframe tbody tr th:only-of-type {\n",
       "        vertical-align: middle;\n",
       "    }\n",
       "\n",
       "    .dataframe tbody tr th {\n",
       "        vertical-align: top;\n",
       "    }\n",
       "\n",
       "    .dataframe thead th {\n",
       "        text-align: right;\n",
       "    }\n",
       "</style>\n",
       "<table border=\"1\" class=\"dataframe\">\n",
       "  <thead>\n",
       "    <tr style=\"text-align: right;\">\n",
       "      <th></th>\n",
       "      <th>text</th>\n",
       "    </tr>\n",
       "  </thead>\n",
       "  <tbody>\n",
       "    <tr>\n",
       "      <th>0</th>\n",
       "      <td>The company was founded in December 2002 by R...</td>\n",
       "    </tr>\n",
       "    <tr>\n",
       "      <th>1</th>\n",
       "      <td>In June 2008, Sequoia Capital, Greylock Partne...</td>\n",
       "    </tr>\n",
       "    <tr>\n",
       "      <th>2</th>\n",
       "      <td>LinkedIn office building at 222 Second Street ...</td>\n",
       "    </tr>\n",
       "    <tr>\n",
       "      <th>3</th>\n",
       "      <td>LinkedIn office in Toronto inside the Toronto ...</td>\n",
       "    </tr>\n",
       "    <tr>\n",
       "      <th>4</th>\n",
       "      <td>LinkedIn filed for an initial public offering ...</td>\n",
       "    </tr>\n",
       "    <tr>\n",
       "      <th>5</th>\n",
       "      <td>In April 2014 LinkedIn announced that it had l...</td>\n",
       "    </tr>\n",
       "    <tr>\n",
       "      <th>6</th>\n",
       "      <td>In 2016 access to LinkedIn was blocked by Russ...</td>\n",
       "    </tr>\n",
       "    <tr>\n",
       "      <th>7</th>\n",
       "      <td>In June 2016 Microsoft announced that it would...</td>\n",
       "    </tr>\n",
       "    <tr>\n",
       "      <th>8</th>\n",
       "      <td>In late 2016 LinkedIn announced a planned incr...</td>\n",
       "    </tr>\n",
       "    <tr>\n",
       "      <th>9</th>\n",
       "      <td>Soon after LinkedIn's acquisition by Microsoft...</td>\n",
       "    </tr>\n",
       "    <tr>\n",
       "      <th>10</th>\n",
       "      <td>Following the launch of the new user interface...</td>\n",
       "    </tr>\n",
       "    <tr>\n",
       "      <th>11</th>\n",
       "      <td>In 2019 LinkedIn launched globally the feature...</td>\n",
       "    </tr>\n",
       "    <tr>\n",
       "      <th>12</th>\n",
       "      <td>In June 2020 Jeff Weiner stepped down as CEO a...</td>\n",
       "    </tr>\n",
       "    <tr>\n",
       "      <th>13</th>\n",
       "      <td>In June 2021 PrivacySharks claimed that more t...</td>\n",
       "    </tr>\n",
       "    <tr>\n",
       "      <th>14</th>\n",
       "      <td>Microsoft ended LinkedIn operations in China i...</td>\n",
       "    </tr>\n",
       "  </tbody>\n",
       "</table>\n",
       "</div>"
      ],
      "text/plain": [
       "                                                 text\n",
       "0    The company was founded in December 2002 by R...\n",
       "1   In June 2008, Sequoia Capital, Greylock Partne...\n",
       "2   LinkedIn office building at 222 Second Street ...\n",
       "3   LinkedIn office in Toronto inside the Toronto ...\n",
       "4   LinkedIn filed for an initial public offering ...\n",
       "5   In April 2014 LinkedIn announced that it had l...\n",
       "6   In 2016 access to LinkedIn was blocked by Russ...\n",
       "7   In June 2016 Microsoft announced that it would...\n",
       "8   In late 2016 LinkedIn announced a planned incr...\n",
       "9   Soon after LinkedIn's acquisition by Microsoft...\n",
       "10  Following the launch of the new user interface...\n",
       "11  In 2019 LinkedIn launched globally the feature...\n",
       "12  In June 2020 Jeff Weiner stepped down as CEO a...\n",
       "13  In June 2021 PrivacySharks claimed that more t...\n",
       "14  Microsoft ended LinkedIn operations in China i..."
      ]
     },
     "execution_count": 5,
     "metadata": {},
     "output_type": "execute_result"
    }
   ],
   "source": [
    "df = pd.DataFrame({'text': sample_text_list})\n",
    "df"
   ]
  },
  {
   "cell_type": "code",
   "execution_count": 6,
   "id": "8c240a4a",
   "metadata": {
    "execution": {
     "iopub.execute_input": "2025-05-19T06:08:03.741895Z",
     "iopub.status.busy": "2025-05-19T06:08:03.741656Z",
     "iopub.status.idle": "2025-05-19T06:08:04.554767Z",
     "shell.execute_reply": "2025-05-19T06:08:04.553823Z"
    },
    "id": "EfYddqekpllq",
    "papermill": {
     "duration": 0.823787,
     "end_time": "2025-05-19T06:08:04.556634",
     "exception": false,
     "start_time": "2025-05-19T06:08:03.732847",
     "status": "completed"
    },
    "tags": []
   },
   "outputs": [],
   "source": [
    "nlp = spacy.load('en_core_web_sm')"
   ]
  },
  {
   "cell_type": "code",
   "execution_count": 7,
   "id": "fb194f3e",
   "metadata": {
    "execution": {
     "iopub.execute_input": "2025-05-19T06:08:04.574839Z",
     "iopub.status.busy": "2025-05-19T06:08:04.574135Z",
     "iopub.status.idle": "2025-05-19T06:08:04.578001Z",
     "shell.execute_reply": "2025-05-19T06:08:04.577419Z"
    },
    "id": "NcjAGmL0ploi",
    "papermill": {
     "duration": 0.014099,
     "end_time": "2025-05-19T06:08:04.579277",
     "exception": false,
     "start_time": "2025-05-19T06:08:04.565178",
     "status": "completed"
    },
    "tags": []
   },
   "outputs": [],
   "source": [
    "annotator = spa.Annotator(labels=['company','person','money','place','date'],model=nlp)"
   ]
  },
  {
   "cell_type": "code",
   "execution_count": 8,
   "id": "45b3e696",
   "metadata": {
    "execution": {
     "iopub.execute_input": "2025-05-19T06:08:04.596075Z",
     "iopub.status.busy": "2025-05-19T06:08:04.595846Z",
     "iopub.status.idle": "2025-05-19T06:08:04.682144Z",
     "shell.execute_reply": "2025-05-19T06:08:04.681391Z"
    },
    "id": "Vr6z-AUprmTi",
    "outputId": "178759d3-9421-405b-f44d-947d762ecd60",
    "papermill": {
     "duration": 0.095974,
     "end_time": "2025-05-19T06:08:04.683357",
     "exception": false,
     "start_time": "2025-05-19T06:08:04.587383",
     "status": "completed"
    },
    "tags": []
   },
   "outputs": [
    {
     "data": {
      "application/vnd.jupyter.widget-view+json": {
       "model_id": "42f9f089e01f4a2cb440a31e1b4d7f34",
       "version_major": 2,
       "version_minor": 0
      },
      "text/plain": [
       "HTML(value='-1 examples annotated, 16 examples left')"
      ]
     },
     "metadata": {},
     "output_type": "display_data"
    },
    {
     "data": {
      "application/vnd.jupyter.widget-view+json": {
       "model_id": "fb1adf5bae3f442cb288fb1f29bd14ba",
       "version_major": 2,
       "version_minor": 0
      },
      "text/plain": [
       "Text(value='', description='company', layout=Layout(width='auto'), placeholder='ent one, ent two, ent three')"
      ]
     },
     "metadata": {},
     "output_type": "display_data"
    },
    {
     "data": {
      "application/vnd.jupyter.widget-view+json": {
       "model_id": "9bcef26f463b43a7948a46cd55e4a4fe",
       "version_major": 2,
       "version_minor": 0
      },
      "text/plain": [
       "Text(value='', description='person', layout=Layout(width='auto'), placeholder='ent one, ent two, ent three')"
      ]
     },
     "metadata": {},
     "output_type": "display_data"
    },
    {
     "data": {
      "application/vnd.jupyter.widget-view+json": {
       "model_id": "ce4973eae5194ac2bafac40494ab3844",
       "version_major": 2,
       "version_minor": 0
      },
      "text/plain": [
       "Text(value='', description='money', layout=Layout(width='auto'), placeholder='ent one, ent two, ent three')"
      ]
     },
     "metadata": {},
     "output_type": "display_data"
    },
    {
     "data": {
      "application/vnd.jupyter.widget-view+json": {
       "model_id": "3feedf19fce440fd8fc6849d346b9f0c",
       "version_major": 2,
       "version_minor": 0
      },
      "text/plain": [
       "Text(value='', description='place', layout=Layout(width='auto'), placeholder='ent one, ent two, ent three')"
      ]
     },
     "metadata": {},
     "output_type": "display_data"
    },
    {
     "data": {
      "application/vnd.jupyter.widget-view+json": {
       "model_id": "4bb645ec24bb4d7d9c3b7c3e734f74c0",
       "version_major": 2,
       "version_minor": 0
      },
      "text/plain": [
       "Text(value='', description='date', layout=Layout(width='auto'), placeholder='ent one, ent two, ent three')"
      ]
     },
     "metadata": {},
     "output_type": "display_data"
    },
    {
     "data": {
      "application/vnd.jupyter.widget-view+json": {
       "model_id": "3f397a7489d646bbbed40a9d5c4e8fdd",
       "version_major": 2,
       "version_minor": 0
      },
      "text/plain": [
       "HBox(children=(Button(button_style='success', description='submit', style=ButtonStyle()), Button(button_style=…"
      ]
     },
     "metadata": {},
     "output_type": "display_data"
    },
    {
     "data": {
      "application/vnd.jupyter.widget-view+json": {
       "model_id": "3632914c2d094772a50173e2f2028dc8",
       "version_major": 2,
       "version_minor": 0
      },
      "text/plain": [
       "Output()"
      ]
     },
     "metadata": {},
     "output_type": "display_data"
    }
   ],
   "source": [
    "df_labels = annotator.annotate(df=df,col_text='text')\n"
   ]
  },
  {
   "cell_type": "code",
   "execution_count": 9,
   "id": "ac3595a1",
   "metadata": {
    "execution": {
     "iopub.execute_input": "2025-05-19T06:08:04.705547Z",
     "iopub.status.busy": "2025-05-19T06:08:04.705320Z",
     "iopub.status.idle": "2025-05-19T06:08:04.712884Z",
     "shell.execute_reply": "2025-05-19T06:08:04.712196Z"
    },
    "papermill": {
     "duration": 0.018147,
     "end_time": "2025-05-19T06:08:04.714006",
     "exception": false,
     "start_time": "2025-05-19T06:08:04.695859",
     "status": "completed"
    },
    "tags": []
   },
   "outputs": [
    {
     "data": {
      "text/html": [
       "<div>\n",
       "<style scoped>\n",
       "    .dataframe tbody tr th:only-of-type {\n",
       "        vertical-align: middle;\n",
       "    }\n",
       "\n",
       "    .dataframe tbody tr th {\n",
       "        vertical-align: top;\n",
       "    }\n",
       "\n",
       "    .dataframe thead th {\n",
       "        text-align: right;\n",
       "    }\n",
       "</style>\n",
       "<table border=\"1\" class=\"dataframe\">\n",
       "  <thead>\n",
       "    <tr style=\"text-align: right;\">\n",
       "      <th></th>\n",
       "      <th>text</th>\n",
       "      <th>annotations</th>\n",
       "    </tr>\n",
       "  </thead>\n",
       "  <tbody>\n",
       "    <tr>\n",
       "      <th>0</th>\n",
       "      <td>The company was founded in December 2002 by R...</td>\n",
       "      <td></td>\n",
       "    </tr>\n",
       "    <tr>\n",
       "      <th>1</th>\n",
       "      <td>In June 2008, Sequoia Capital, Greylock Partne...</td>\n",
       "      <td></td>\n",
       "    </tr>\n",
       "    <tr>\n",
       "      <th>2</th>\n",
       "      <td>LinkedIn office building at 222 Second Street ...</td>\n",
       "      <td></td>\n",
       "    </tr>\n",
       "    <tr>\n",
       "      <th>3</th>\n",
       "      <td>LinkedIn office in Toronto inside the Toronto ...</td>\n",
       "      <td></td>\n",
       "    </tr>\n",
       "    <tr>\n",
       "      <th>4</th>\n",
       "      <td>LinkedIn filed for an initial public offering ...</td>\n",
       "      <td></td>\n",
       "    </tr>\n",
       "    <tr>\n",
       "      <th>5</th>\n",
       "      <td>In April 2014 LinkedIn announced that it had l...</td>\n",
       "      <td></td>\n",
       "    </tr>\n",
       "    <tr>\n",
       "      <th>6</th>\n",
       "      <td>In 2016 access to LinkedIn was blocked by Russ...</td>\n",
       "      <td></td>\n",
       "    </tr>\n",
       "    <tr>\n",
       "      <th>7</th>\n",
       "      <td>In June 2016 Microsoft announced that it would...</td>\n",
       "      <td></td>\n",
       "    </tr>\n",
       "    <tr>\n",
       "      <th>8</th>\n",
       "      <td>In late 2016 LinkedIn announced a planned incr...</td>\n",
       "      <td></td>\n",
       "    </tr>\n",
       "    <tr>\n",
       "      <th>9</th>\n",
       "      <td>Soon after LinkedIn's acquisition by Microsoft...</td>\n",
       "      <td></td>\n",
       "    </tr>\n",
       "    <tr>\n",
       "      <th>10</th>\n",
       "      <td>Following the launch of the new user interface...</td>\n",
       "      <td></td>\n",
       "    </tr>\n",
       "    <tr>\n",
       "      <th>11</th>\n",
       "      <td>In 2019 LinkedIn launched globally the feature...</td>\n",
       "      <td></td>\n",
       "    </tr>\n",
       "    <tr>\n",
       "      <th>12</th>\n",
       "      <td>In June 2020 Jeff Weiner stepped down as CEO a...</td>\n",
       "      <td></td>\n",
       "    </tr>\n",
       "    <tr>\n",
       "      <th>13</th>\n",
       "      <td>In June 2021 PrivacySharks claimed that more t...</td>\n",
       "      <td></td>\n",
       "    </tr>\n",
       "    <tr>\n",
       "      <th>14</th>\n",
       "      <td>Microsoft ended LinkedIn operations in China i...</td>\n",
       "      <td></td>\n",
       "    </tr>\n",
       "  </tbody>\n",
       "</table>\n",
       "</div>"
      ],
      "text/plain": [
       "                                                 text annotations\n",
       "0    The company was founded in December 2002 by R...            \n",
       "1   In June 2008, Sequoia Capital, Greylock Partne...            \n",
       "2   LinkedIn office building at 222 Second Street ...            \n",
       "3   LinkedIn office in Toronto inside the Toronto ...            \n",
       "4   LinkedIn filed for an initial public offering ...            \n",
       "5   In April 2014 LinkedIn announced that it had l...            \n",
       "6   In 2016 access to LinkedIn was blocked by Russ...            \n",
       "7   In June 2016 Microsoft announced that it would...            \n",
       "8   In late 2016 LinkedIn announced a planned incr...            \n",
       "9   Soon after LinkedIn's acquisition by Microsoft...            \n",
       "10  Following the launch of the new user interface...            \n",
       "11  In 2019 LinkedIn launched globally the feature...            \n",
       "12  In June 2020 Jeff Weiner stepped down as CEO a...            \n",
       "13  In June 2021 PrivacySharks claimed that more t...            \n",
       "14  Microsoft ended LinkedIn operations in China i...            "
      ]
     },
     "execution_count": 9,
     "metadata": {},
     "output_type": "execute_result"
    }
   ],
   "source": [
    "df_labels"
   ]
  },
  {
   "cell_type": "code",
   "execution_count": 10,
   "id": "bfb09099",
   "metadata": {
    "execution": {
     "iopub.execute_input": "2025-05-19T06:08:04.733528Z",
     "iopub.status.busy": "2025-05-19T06:08:04.732860Z",
     "iopub.status.idle": "2025-05-19T06:08:04.737516Z",
     "shell.execute_reply": "2025-05-19T06:08:04.736768Z"
    },
    "id": "xHDNzNklplru",
    "outputId": "1625efed-a44a-4aeb-b312-a4e802aaa45d",
    "papermill": {
     "duration": 0.015291,
     "end_time": "2025-05-19T06:08:04.738761",
     "exception": false,
     "start_time": "2025-05-19T06:08:04.723470",
     "status": "completed"
    },
    "tags": []
   },
   "outputs": [
    {
     "name": "stdout",
     "output_type": "stream",
     "text": [
      " The company was founded in December 2002 by Reid Hoffman and the founding team members from PayPal and Socialnet.com (Allen Blue, Eric Ly, Jean-Luc Vaillant, Lee Hower, Konstantin Guericke, Stephen Beitzel, David Eves, Ian McNish, Yan Pujante, Chris Saccheri).In late 2003, Sequoia Capital led the Series A investment in the company.In August 2004, LinkedIn reached 1 million users.In March 2006, LinkedIn achieved its first month of profitability.In April 2007, LinkedIn reached 10 million users.In February 2008, LinkedIn launched a mobile version of the site.\n",
      "=======================\n",
      "\n"
     ]
    }
   ],
   "source": [
    "print(df_labels[\"text\"][0])\n",
    "print(\"=======================\")\n",
    "print(df_labels[\"annotations\"][0])"
   ]
  },
  {
   "cell_type": "code",
   "execution_count": 11,
   "id": "a1ac961e",
   "metadata": {
    "execution": {
     "iopub.execute_input": "2025-05-19T06:08:04.757970Z",
     "iopub.status.busy": "2025-05-19T06:08:04.757738Z",
     "iopub.status.idle": "2025-05-19T06:08:04.761774Z",
     "shell.execute_reply": "2025-05-19T06:08:04.760990Z"
    },
    "id": "82TORlBwrVK4",
    "outputId": "a41c8f21-0eb8-4410-bba6-65497fbf5964",
    "papermill": {
     "duration": 0.014761,
     "end_time": "2025-05-19T06:08:04.762900",
     "exception": false,
     "start_time": "2025-05-19T06:08:04.748139",
     "status": "completed"
    },
    "tags": []
   },
   "outputs": [
    {
     "name": "stdout",
     "output_type": "stream",
     "text": [
      "<class 'str'>\n"
     ]
    }
   ],
   "source": [
    "print(type(df_labels['text'][1]))"
   ]
  },
  {
   "cell_type": "code",
   "execution_count": 12,
   "id": "3e2075bd",
   "metadata": {
    "execution": {
     "iopub.execute_input": "2025-05-19T06:08:04.781976Z",
     "iopub.status.busy": "2025-05-19T06:08:04.781564Z",
     "iopub.status.idle": "2025-05-19T06:08:04.785816Z",
     "shell.execute_reply": "2025-05-19T06:08:04.784997Z"
    },
    "id": "sVx-PO8jrVK6",
    "papermill": {
     "duration": 0.015085,
     "end_time": "2025-05-19T06:08:04.787132",
     "exception": false,
     "start_time": "2025-05-19T06:08:04.772047",
     "status": "completed"
    },
    "tags": []
   },
   "outputs": [
    {
     "name": "stdout",
     "output_type": "stream",
     "text": [
      "In June 2008, Sequoia Capital, Greylock Partners, and other venture capital firms purchased a 5% stake in the company for $53 million, giving the company a post-money valuation of approximately $1 billion. In November 2009, LinkedIn opened its office in Mumbai and soon thereafter in Sydney, as it started its Asia-Pacific team expansion. In 2010 LinkedIn opened an International Headquarters in Dublin, Ireland,received a $20 million investment from Tiger Global Management LLC at a valuation of approximately $2 billion,announced its first acquisition, Mspoke,and improved its 1% premium subscription ratio. In October of that year, Silicon Valley Insider ranked the company No. 10 on its Top 100 List of most valuable startups. By December, the company was valued at $1.575 billion in private markets. LinkedIn started its India operations in 2009 and a major part of the first year was dedicated to understanding professionals in India and educating members to leverage LinkedIn for career development.\n"
     ]
    }
   ],
   "source": [
    "print(df_labels['text'][1])"
   ]
  },
  {
   "cell_type": "code",
   "execution_count": 13,
   "id": "7bc95973",
   "metadata": {
    "execution": {
     "iopub.execute_input": "2025-05-19T06:08:04.806370Z",
     "iopub.status.busy": "2025-05-19T06:08:04.805857Z",
     "iopub.status.idle": "2025-05-19T06:08:04.809931Z",
     "shell.execute_reply": "2025-05-19T06:08:04.809269Z"
    },
    "id": "XRKUmpG6plub",
    "papermill": {
     "duration": 0.014738,
     "end_time": "2025-05-19T06:08:04.811118",
     "exception": false,
     "start_time": "2025-05-19T06:08:04.796380",
     "status": "completed"
    },
    "tags": []
   },
   "outputs": [
    {
     "name": "stdout",
     "output_type": "stream",
     "text": [
      "<class 'str'>\n"
     ]
    }
   ],
   "source": [
    "print(type(df_labels['annotations'][1]))"
   ]
  },
  {
   "cell_type": "code",
   "execution_count": 14,
   "id": "102aa418",
   "metadata": {
    "execution": {
     "iopub.execute_input": "2025-05-19T06:08:04.830355Z",
     "iopub.status.busy": "2025-05-19T06:08:04.829902Z",
     "iopub.status.idle": "2025-05-19T06:08:04.833957Z",
     "shell.execute_reply": "2025-05-19T06:08:04.833198Z"
    },
    "id": "yH8GJDELplxa",
    "papermill": {
     "duration": 0.014874,
     "end_time": "2025-05-19T06:08:04.835161",
     "exception": false,
     "start_time": "2025-05-19T06:08:04.820287",
     "status": "completed"
    },
    "tags": []
   },
   "outputs": [
    {
     "name": "stdout",
     "output_type": "stream",
     "text": [
      "\n"
     ]
    }
   ],
   "source": [
    "print(df_labels['annotations'][1])"
   ]
  },
  {
   "cell_type": "code",
   "execution_count": null,
   "id": "bde60cce",
   "metadata": {
    "papermill": {
     "duration": 0.008938,
     "end_time": "2025-05-19T06:08:04.853400",
     "exception": false,
     "start_time": "2025-05-19T06:08:04.844462",
     "status": "completed"
    },
    "tags": []
   },
   "outputs": [],
   "source": []
  }
 ],
 "metadata": {
  "colab": {
   "provenance": []
  },
  "kaggle": {
   "accelerator": "none",
   "dataSources": [],
   "dockerImageVersionId": 31040,
   "isGpuEnabled": false,
   "isInternetEnabled": true,
   "language": "python",
   "sourceType": "notebook"
  },
  "kernelspec": {
   "display_name": "Python 3",
   "language": "python",
   "name": "python3"
  },
  "language_info": {
   "codemirror_mode": {
    "name": "ipython",
    "version": 3
   },
   "file_extension": ".py",
   "mimetype": "text/x-python",
   "name": "python",
   "nbconvert_exporter": "python",
   "pygments_lexer": "ipython3",
   "version": "3.11.11"
  },
  "papermill": {
   "default_parameters": {},
   "duration": 24.768692,
   "end_time": "2025-05-19T06:08:06.483426",
   "environment_variables": {},
   "exception": null,
   "input_path": "__notebook__.ipynb",
   "output_path": "__notebook__.ipynb",
   "parameters": {},
   "start_time": "2025-05-19T06:07:41.714734",
   "version": "2.6.0"
  },
  "widgets": {
   "application/vnd.jupyter.widget-state+json": {
    "state": {
     "046b679e4ab44089ac75da52f98a5b64": {
      "model_module": "@jupyter-widgets/base",
      "model_module_version": "2.0.0",
      "model_name": "LayoutModel",
      "state": {
       "_model_module": "@jupyter-widgets/base",
       "_model_module_version": "2.0.0",
       "_model_name": "LayoutModel",
       "_view_count": null,
       "_view_module": "@jupyter-widgets/base",
       "_view_module_version": "2.0.0",
       "_view_name": "LayoutView",
       "align_content": null,
       "align_items": null,
       "align_self": null,
       "border_bottom": null,
       "border_left": null,
       "border_right": null,
       "border_top": null,
       "bottom": null,
       "display": null,
       "flex": null,
       "flex_flow": null,
       "grid_area": null,
       "grid_auto_columns": null,
       "grid_auto_flow": null,
       "grid_auto_rows": null,
       "grid_column": null,
       "grid_gap": null,
       "grid_row": null,
       "grid_template_areas": null,
       "grid_template_columns": null,
       "grid_template_rows": null,
       "height": null,
       "justify_content": null,
       "justify_items": null,
       "left": null,
       "margin": null,
       "max_height": null,
       "max_width": null,
       "min_height": null,
       "min_width": null,
       "object_fit": null,
       "object_position": null,
       "order": null,
       "overflow": null,
       "padding": null,
       "right": null,
       "top": null,
       "visibility": null,
       "width": "auto"
      }
     },
     "1a072545037f44eda1b430af18297234": {
      "model_module": "@jupyter-widgets/base",
      "model_module_version": "2.0.0",
      "model_name": "LayoutModel",
      "state": {
       "_model_module": "@jupyter-widgets/base",
       "_model_module_version": "2.0.0",
       "_model_name": "LayoutModel",
       "_view_count": null,
       "_view_module": "@jupyter-widgets/base",
       "_view_module_version": "2.0.0",
       "_view_name": "LayoutView",
       "align_content": null,
       "align_items": null,
       "align_self": null,
       "border_bottom": null,
       "border_left": null,
       "border_right": null,
       "border_top": null,
       "bottom": null,
       "display": null,
       "flex": null,
       "flex_flow": null,
       "grid_area": null,
       "grid_auto_columns": null,
       "grid_auto_flow": null,
       "grid_auto_rows": null,
       "grid_column": null,
       "grid_gap": null,
       "grid_row": null,
       "grid_template_areas": null,
       "grid_template_columns": null,
       "grid_template_rows": null,
       "height": null,
       "justify_content": null,
       "justify_items": null,
       "left": null,
       "margin": null,
       "max_height": null,
       "max_width": null,
       "min_height": null,
       "min_width": null,
       "object_fit": null,
       "object_position": null,
       "order": null,
       "overflow": null,
       "padding": null,
       "right": null,
       "top": null,
       "visibility": null,
       "width": null
      }
     },
     "1e1efa400e6949e9abbac2d9ec744492": {
      "model_module": "@jupyter-widgets/base",
      "model_module_version": "2.0.0",
      "model_name": "LayoutModel",
      "state": {
       "_model_module": "@jupyter-widgets/base",
       "_model_module_version": "2.0.0",
       "_model_name": "LayoutModel",
       "_view_count": null,
       "_view_module": "@jupyter-widgets/base",
       "_view_module_version": "2.0.0",
       "_view_name": "LayoutView",
       "align_content": null,
       "align_items": null,
       "align_self": null,
       "border_bottom": null,
       "border_left": null,
       "border_right": null,
       "border_top": null,
       "bottom": null,
       "display": null,
       "flex": null,
       "flex_flow": null,
       "grid_area": null,
       "grid_auto_columns": null,
       "grid_auto_flow": null,
       "grid_auto_rows": null,
       "grid_column": null,
       "grid_gap": null,
       "grid_row": null,
       "grid_template_areas": null,
       "grid_template_columns": null,
       "grid_template_rows": null,
       "height": null,
       "justify_content": null,
       "justify_items": null,
       "left": null,
       "margin": null,
       "max_height": null,
       "max_width": null,
       "min_height": null,
       "min_width": null,
       "object_fit": null,
       "object_position": null,
       "order": null,
       "overflow": null,
       "padding": null,
       "right": null,
       "top": null,
       "visibility": null,
       "width": "auto"
      }
     },
     "32c4013cfe8c46158abc40cb2d1ac96b": {
      "model_module": "@jupyter-widgets/controls",
      "model_module_version": "2.0.0",
      "model_name": "TextStyleModel",
      "state": {
       "_model_module": "@jupyter-widgets/controls",
       "_model_module_version": "2.0.0",
       "_model_name": "TextStyleModel",
       "_view_count": null,
       "_view_module": "@jupyter-widgets/base",
       "_view_module_version": "2.0.0",
       "_view_name": "StyleView",
       "background": null,
       "description_width": "",
       "font_size": null,
       "text_color": null
      }
     },
     "3632914c2d094772a50173e2f2028dc8": {
      "model_module": "@jupyter-widgets/output",
      "model_module_version": "1.0.0",
      "model_name": "OutputModel",
      "state": {
       "_dom_classes": [],
       "_model_module": "@jupyter-widgets/output",
       "_model_module_version": "1.0.0",
       "_model_name": "OutputModel",
       "_view_count": null,
       "_view_module": "@jupyter-widgets/output",
       "_view_module_version": "1.0.0",
       "_view_name": "OutputView",
       "layout": "IPY_MODEL_4058f25e836642b18e329c3505dd0262",
       "msg_id": "",
       "outputs": [
        {
         "name": "stdout",
         "output_type": "stream",
         "text": "\u001b[1mText:\u001b[0m\n"
        },
        {
         "data": {
          "text/html": "<span class=\"tex2jax_ignore\"><div class=\"entities\" style=\"line-height: 2.5; direction: ltr\"> The company was founded in December 2002 by Reid Hoffman and the founding team members from PayPal and Socialnet.com (Allen Blue, Eric Ly, Jean-Luc Vaillant, Lee Hower, Konstantin Guericke, Stephen Beitzel, David Eves, Ian McNish, Yan Pujante, Chris Saccheri).In late 2003, Sequoia Capital led the Series A investment in the company.In August 2004, LinkedIn reached 1 million users.In March 2006, LinkedIn achieved its first month of profitability.In April 2007, LinkedIn reached 10 million users.In February 2008, LinkedIn launched a mobile version of the site.</div></span>",
          "text/plain": "<IPython.core.display.HTML object>"
         },
         "metadata": {},
         "output_type": "display_data"
        },
        {
         "data": {
          "application/vnd.jupyter.widget-view+json": {
           "model_id": "f566de6373d34b7099f2760c2606eb52",
           "version_major": 2,
           "version_minor": 0
          },
          "text/plain": "HTML(value='')"
         },
         "metadata": {},
         "output_type": "display_data"
        }
       ],
       "tabbable": null,
       "tooltip": null
      }
     },
     "3f397a7489d646bbbed40a9d5c4e8fdd": {
      "model_module": "@jupyter-widgets/controls",
      "model_module_version": "2.0.0",
      "model_name": "HBoxModel",
      "state": {
       "_dom_classes": [],
       "_model_module": "@jupyter-widgets/controls",
       "_model_module_version": "2.0.0",
       "_model_name": "HBoxModel",
       "_view_count": null,
       "_view_module": "@jupyter-widgets/controls",
       "_view_module_version": "2.0.0",
       "_view_name": "HBoxView",
       "box_style": "",
       "children": [
        "IPY_MODEL_7f9c81c5a935480691fa68b005e929aa",
        "IPY_MODEL_85d98e96a66842c88123b281e97a0390",
        "IPY_MODEL_eff27ef7ddcf44b9a0130c8756fe55f2"
       ],
       "layout": "IPY_MODEL_d7c068f875554eef8b1a3fc3b7014b63",
       "tabbable": null,
       "tooltip": null
      }
     },
     "3feedf19fce440fd8fc6849d346b9f0c": {
      "model_module": "@jupyter-widgets/controls",
      "model_module_version": "2.0.0",
      "model_name": "TextModel",
      "state": {
       "_dom_classes": [],
       "_model_module": "@jupyter-widgets/controls",
       "_model_module_version": "2.0.0",
       "_model_name": "TextModel",
       "_view_count": null,
       "_view_module": "@jupyter-widgets/controls",
       "_view_module_version": "2.0.0",
       "_view_name": "TextView",
       "continuous_update": true,
       "description": "place",
       "description_allow_html": false,
       "disabled": false,
       "layout": "IPY_MODEL_5eaff6ed11254f8690bfbb256d148f23",
       "placeholder": "ent one, ent two, ent three",
       "style": "IPY_MODEL_32c4013cfe8c46158abc40cb2d1ac96b",
       "tabbable": null,
       "tooltip": null,
       "value": ""
      }
     },
     "4058f25e836642b18e329c3505dd0262": {
      "model_module": "@jupyter-widgets/base",
      "model_module_version": "2.0.0",
      "model_name": "LayoutModel",
      "state": {
       "_model_module": "@jupyter-widgets/base",
       "_model_module_version": "2.0.0",
       "_model_name": "LayoutModel",
       "_view_count": null,
       "_view_module": "@jupyter-widgets/base",
       "_view_module_version": "2.0.0",
       "_view_name": "LayoutView",
       "align_content": null,
       "align_items": null,
       "align_self": null,
       "border_bottom": null,
       "border_left": null,
       "border_right": null,
       "border_top": null,
       "bottom": null,
       "display": null,
       "flex": null,
       "flex_flow": null,
       "grid_area": null,
       "grid_auto_columns": null,
       "grid_auto_flow": null,
       "grid_auto_rows": null,
       "grid_column": null,
       "grid_gap": null,
       "grid_row": null,
       "grid_template_areas": null,
       "grid_template_columns": null,
       "grid_template_rows": null,
       "height": null,
       "justify_content": null,
       "justify_items": null,
       "left": null,
       "margin": null,
       "max_height": null,
       "max_width": null,
       "min_height": null,
       "min_width": null,
       "object_fit": null,
       "object_position": null,
       "order": null,
       "overflow": null,
       "padding": null,
       "right": null,
       "top": null,
       "visibility": null,
       "width": null
      }
     },
     "42ba22ed497e42acabc9ed8928c33c20": {
      "model_module": "@jupyter-widgets/controls",
      "model_module_version": "2.0.0",
      "model_name": "TextStyleModel",
      "state": {
       "_model_module": "@jupyter-widgets/controls",
       "_model_module_version": "2.0.0",
       "_model_name": "TextStyleModel",
       "_view_count": null,
       "_view_module": "@jupyter-widgets/base",
       "_view_module_version": "2.0.0",
       "_view_name": "StyleView",
       "background": null,
       "description_width": "",
       "font_size": null,
       "text_color": null
      }
     },
     "42f9f089e01f4a2cb440a31e1b4d7f34": {
      "model_module": "@jupyter-widgets/controls",
      "model_module_version": "2.0.0",
      "model_name": "HTMLModel",
      "state": {
       "_dom_classes": [],
       "_model_module": "@jupyter-widgets/controls",
       "_model_module_version": "2.0.0",
       "_model_name": "HTMLModel",
       "_view_count": null,
       "_view_module": "@jupyter-widgets/controls",
       "_view_module_version": "2.0.0",
       "_view_name": "HTMLView",
       "description": "",
       "description_allow_html": false,
       "layout": "IPY_MODEL_e8422ec40d414543bcf09d37b70eb455",
       "placeholder": "​",
       "style": "IPY_MODEL_978950cdf8db4440baf7d576f9345a85",
       "tabbable": null,
       "tooltip": null,
       "value": "0 examples annotated, 15 examples left"
      }
     },
     "4bb645ec24bb4d7d9c3b7c3e734f74c0": {
      "model_module": "@jupyter-widgets/controls",
      "model_module_version": "2.0.0",
      "model_name": "TextModel",
      "state": {
       "_dom_classes": [],
       "_model_module": "@jupyter-widgets/controls",
       "_model_module_version": "2.0.0",
       "_model_name": "TextModel",
       "_view_count": null,
       "_view_module": "@jupyter-widgets/controls",
       "_view_module_version": "2.0.0",
       "_view_name": "TextView",
       "continuous_update": true,
       "description": "date",
       "description_allow_html": false,
       "disabled": false,
       "layout": "IPY_MODEL_046b679e4ab44089ac75da52f98a5b64",
       "placeholder": "ent one, ent two, ent three",
       "style": "IPY_MODEL_89f194c624624913b56ed827cb0b3d7d",
       "tabbable": null,
       "tooltip": null,
       "value": ""
      }
     },
     "4c7080428a1949bab2630e736a88573f": {
      "model_module": "@jupyter-widgets/base",
      "model_module_version": "2.0.0",
      "model_name": "LayoutModel",
      "state": {
       "_model_module": "@jupyter-widgets/base",
       "_model_module_version": "2.0.0",
       "_model_name": "LayoutModel",
       "_view_count": null,
       "_view_module": "@jupyter-widgets/base",
       "_view_module_version": "2.0.0",
       "_view_name": "LayoutView",
       "align_content": null,
       "align_items": null,
       "align_self": null,
       "border_bottom": null,
       "border_left": null,
       "border_right": null,
       "border_top": null,
       "bottom": null,
       "display": null,
       "flex": null,
       "flex_flow": null,
       "grid_area": null,
       "grid_auto_columns": null,
       "grid_auto_flow": null,
       "grid_auto_rows": null,
       "grid_column": null,
       "grid_gap": null,
       "grid_row": null,
       "grid_template_areas": null,
       "grid_template_columns": null,
       "grid_template_rows": null,
       "height": null,
       "justify_content": null,
       "justify_items": null,
       "left": null,
       "margin": null,
       "max_height": null,
       "max_width": null,
       "min_height": null,
       "min_width": null,
       "object_fit": null,
       "object_position": null,
       "order": null,
       "overflow": null,
       "padding": null,
       "right": null,
       "top": null,
       "visibility": null,
       "width": null
      }
     },
     "5eaff6ed11254f8690bfbb256d148f23": {
      "model_module": "@jupyter-widgets/base",
      "model_module_version": "2.0.0",
      "model_name": "LayoutModel",
      "state": {
       "_model_module": "@jupyter-widgets/base",
       "_model_module_version": "2.0.0",
       "_model_name": "LayoutModel",
       "_view_count": null,
       "_view_module": "@jupyter-widgets/base",
       "_view_module_version": "2.0.0",
       "_view_name": "LayoutView",
       "align_content": null,
       "align_items": null,
       "align_self": null,
       "border_bottom": null,
       "border_left": null,
       "border_right": null,
       "border_top": null,
       "bottom": null,
       "display": null,
       "flex": null,
       "flex_flow": null,
       "grid_area": null,
       "grid_auto_columns": null,
       "grid_auto_flow": null,
       "grid_auto_rows": null,
       "grid_column": null,
       "grid_gap": null,
       "grid_row": null,
       "grid_template_areas": null,
       "grid_template_columns": null,
       "grid_template_rows": null,
       "height": null,
       "justify_content": null,
       "justify_items": null,
       "left": null,
       "margin": null,
       "max_height": null,
       "max_width": null,
       "min_height": null,
       "min_width": null,
       "object_fit": null,
       "object_position": null,
       "order": null,
       "overflow": null,
       "padding": null,
       "right": null,
       "top": null,
       "visibility": null,
       "width": "auto"
      }
     },
     "5f411afd920a4f70a2c2757b45a586fa": {
      "model_module": "@jupyter-widgets/base",
      "model_module_version": "2.0.0",
      "model_name": "LayoutModel",
      "state": {
       "_model_module": "@jupyter-widgets/base",
       "_model_module_version": "2.0.0",
       "_model_name": "LayoutModel",
       "_view_count": null,
       "_view_module": "@jupyter-widgets/base",
       "_view_module_version": "2.0.0",
       "_view_name": "LayoutView",
       "align_content": null,
       "align_items": null,
       "align_self": null,
       "border_bottom": null,
       "border_left": null,
       "border_right": null,
       "border_top": null,
       "bottom": null,
       "display": null,
       "flex": null,
       "flex_flow": null,
       "grid_area": null,
       "grid_auto_columns": null,
       "grid_auto_flow": null,
       "grid_auto_rows": null,
       "grid_column": null,
       "grid_gap": null,
       "grid_row": null,
       "grid_template_areas": null,
       "grid_template_columns": null,
       "grid_template_rows": null,
       "height": null,
       "justify_content": null,
       "justify_items": null,
       "left": null,
       "margin": null,
       "max_height": null,
       "max_width": null,
       "min_height": null,
       "min_width": null,
       "object_fit": null,
       "object_position": null,
       "order": null,
       "overflow": null,
       "padding": null,
       "right": null,
       "top": null,
       "visibility": null,
       "width": null
      }
     },
     "73b22551af764c0d93261198b7f0208e": {
      "model_module": "@jupyter-widgets/base",
      "model_module_version": "2.0.0",
      "model_name": "LayoutModel",
      "state": {
       "_model_module": "@jupyter-widgets/base",
       "_model_module_version": "2.0.0",
       "_model_name": "LayoutModel",
       "_view_count": null,
       "_view_module": "@jupyter-widgets/base",
       "_view_module_version": "2.0.0",
       "_view_name": "LayoutView",
       "align_content": null,
       "align_items": null,
       "align_self": null,
       "border_bottom": null,
       "border_left": null,
       "border_right": null,
       "border_top": null,
       "bottom": null,
       "display": null,
       "flex": null,
       "flex_flow": null,
       "grid_area": null,
       "grid_auto_columns": null,
       "grid_auto_flow": null,
       "grid_auto_rows": null,
       "grid_column": null,
       "grid_gap": null,
       "grid_row": null,
       "grid_template_areas": null,
       "grid_template_columns": null,
       "grid_template_rows": null,
       "height": null,
       "justify_content": null,
       "justify_items": null,
       "left": null,
       "margin": null,
       "max_height": null,
       "max_width": null,
       "min_height": null,
       "min_width": null,
       "object_fit": null,
       "object_position": null,
       "order": null,
       "overflow": null,
       "padding": null,
       "right": null,
       "top": null,
       "visibility": null,
       "width": null
      }
     },
     "75185eb8157b48a49b4320c87ff58196": {
      "model_module": "@jupyter-widgets/controls",
      "model_module_version": "2.0.0",
      "model_name": "ButtonStyleModel",
      "state": {
       "_model_module": "@jupyter-widgets/controls",
       "_model_module_version": "2.0.0",
       "_model_name": "ButtonStyleModel",
       "_view_count": null,
       "_view_module": "@jupyter-widgets/base",
       "_view_module_version": "2.0.0",
       "_view_name": "StyleView",
       "button_color": null,
       "font_family": null,
       "font_size": null,
       "font_style": null,
       "font_variant": null,
       "font_weight": null,
       "text_color": null,
       "text_decoration": null
      }
     },
     "7f9c81c5a935480691fa68b005e929aa": {
      "model_module": "@jupyter-widgets/controls",
      "model_module_version": "2.0.0",
      "model_name": "ButtonModel",
      "state": {
       "_dom_classes": [],
       "_model_module": "@jupyter-widgets/controls",
       "_model_module_version": "2.0.0",
       "_model_name": "ButtonModel",
       "_view_count": null,
       "_view_module": "@jupyter-widgets/controls",
       "_view_module_version": "2.0.0",
       "_view_name": "ButtonView",
       "button_style": "success",
       "description": "submit",
       "disabled": false,
       "icon": "",
       "layout": "IPY_MODEL_5f411afd920a4f70a2c2757b45a586fa",
       "style": "IPY_MODEL_f7cb53b824014268b9339d058642fdf7",
       "tabbable": null,
       "tooltip": null
      }
     },
     "823ee76cb0e64f5ab3ad8c2a13818e5c": {
      "model_module": "@jupyter-widgets/base",
      "model_module_version": "2.0.0",
      "model_name": "LayoutModel",
      "state": {
       "_model_module": "@jupyter-widgets/base",
       "_model_module_version": "2.0.0",
       "_model_name": "LayoutModel",
       "_view_count": null,
       "_view_module": "@jupyter-widgets/base",
       "_view_module_version": "2.0.0",
       "_view_name": "LayoutView",
       "align_content": null,
       "align_items": null,
       "align_self": null,
       "border_bottom": null,
       "border_left": null,
       "border_right": null,
       "border_top": null,
       "bottom": null,
       "display": null,
       "flex": null,
       "flex_flow": null,
       "grid_area": null,
       "grid_auto_columns": null,
       "grid_auto_flow": null,
       "grid_auto_rows": null,
       "grid_column": null,
       "grid_gap": null,
       "grid_row": null,
       "grid_template_areas": null,
       "grid_template_columns": null,
       "grid_template_rows": null,
       "height": null,
       "justify_content": null,
       "justify_items": null,
       "left": null,
       "margin": null,
       "max_height": null,
       "max_width": null,
       "min_height": null,
       "min_width": null,
       "object_fit": null,
       "object_position": null,
       "order": null,
       "overflow": null,
       "padding": null,
       "right": null,
       "top": null,
       "visibility": null,
       "width": "auto"
      }
     },
     "85d98e96a66842c88123b281e97a0390": {
      "model_module": "@jupyter-widgets/controls",
      "model_module_version": "2.0.0",
      "model_name": "ButtonModel",
      "state": {
       "_dom_classes": [],
       "_model_module": "@jupyter-widgets/controls",
       "_model_module_version": "2.0.0",
       "_model_name": "ButtonModel",
       "_view_count": null,
       "_view_module": "@jupyter-widgets/controls",
       "_view_module_version": "2.0.0",
       "_view_name": "ButtonView",
       "button_style": "danger",
       "description": "skip",
       "disabled": false,
       "icon": "",
       "layout": "IPY_MODEL_73b22551af764c0d93261198b7f0208e",
       "style": "IPY_MODEL_75185eb8157b48a49b4320c87ff58196",
       "tabbable": null,
       "tooltip": null
      }
     },
     "883f4268d70742328ce8f1fd64dd0e3f": {
      "model_module": "@jupyter-widgets/controls",
      "model_module_version": "2.0.0",
      "model_name": "HTMLStyleModel",
      "state": {
       "_model_module": "@jupyter-widgets/controls",
       "_model_module_version": "2.0.0",
       "_model_name": "HTMLStyleModel",
       "_view_count": null,
       "_view_module": "@jupyter-widgets/base",
       "_view_module_version": "2.0.0",
       "_view_name": "StyleView",
       "background": null,
       "description_width": "",
       "font_size": null,
       "text_color": null
      }
     },
     "89f194c624624913b56ed827cb0b3d7d": {
      "model_module": "@jupyter-widgets/controls",
      "model_module_version": "2.0.0",
      "model_name": "TextStyleModel",
      "state": {
       "_model_module": "@jupyter-widgets/controls",
       "_model_module_version": "2.0.0",
       "_model_name": "TextStyleModel",
       "_view_count": null,
       "_view_module": "@jupyter-widgets/base",
       "_view_module_version": "2.0.0",
       "_view_name": "StyleView",
       "background": null,
       "description_width": "",
       "font_size": null,
       "text_color": null
      }
     },
     "978950cdf8db4440baf7d576f9345a85": {
      "model_module": "@jupyter-widgets/controls",
      "model_module_version": "2.0.0",
      "model_name": "HTMLStyleModel",
      "state": {
       "_model_module": "@jupyter-widgets/controls",
       "_model_module_version": "2.0.0",
       "_model_name": "HTMLStyleModel",
       "_view_count": null,
       "_view_module": "@jupyter-widgets/base",
       "_view_module_version": "2.0.0",
       "_view_name": "StyleView",
       "background": null,
       "description_width": "",
       "font_size": null,
       "text_color": null
      }
     },
     "9bcef26f463b43a7948a46cd55e4a4fe": {
      "model_module": "@jupyter-widgets/controls",
      "model_module_version": "2.0.0",
      "model_name": "TextModel",
      "state": {
       "_dom_classes": [],
       "_model_module": "@jupyter-widgets/controls",
       "_model_module_version": "2.0.0",
       "_model_name": "TextModel",
       "_view_count": null,
       "_view_module": "@jupyter-widgets/controls",
       "_view_module_version": "2.0.0",
       "_view_name": "TextView",
       "continuous_update": true,
       "description": "person",
       "description_allow_html": false,
       "disabled": false,
       "layout": "IPY_MODEL_afa94cd179234ec0844a2c68d7bf361c",
       "placeholder": "ent one, ent two, ent three",
       "style": "IPY_MODEL_f9f63fe889604ae189080cdc53165225",
       "tabbable": null,
       "tooltip": null,
       "value": ""
      }
     },
     "afa94cd179234ec0844a2c68d7bf361c": {
      "model_module": "@jupyter-widgets/base",
      "model_module_version": "2.0.0",
      "model_name": "LayoutModel",
      "state": {
       "_model_module": "@jupyter-widgets/base",
       "_model_module_version": "2.0.0",
       "_model_name": "LayoutModel",
       "_view_count": null,
       "_view_module": "@jupyter-widgets/base",
       "_view_module_version": "2.0.0",
       "_view_name": "LayoutView",
       "align_content": null,
       "align_items": null,
       "align_self": null,
       "border_bottom": null,
       "border_left": null,
       "border_right": null,
       "border_top": null,
       "bottom": null,
       "display": null,
       "flex": null,
       "flex_flow": null,
       "grid_area": null,
       "grid_auto_columns": null,
       "grid_auto_flow": null,
       "grid_auto_rows": null,
       "grid_column": null,
       "grid_gap": null,
       "grid_row": null,
       "grid_template_areas": null,
       "grid_template_columns": null,
       "grid_template_rows": null,
       "height": null,
       "justify_content": null,
       "justify_items": null,
       "left": null,
       "margin": null,
       "max_height": null,
       "max_width": null,
       "min_height": null,
       "min_width": null,
       "object_fit": null,
       "object_position": null,
       "order": null,
       "overflow": null,
       "padding": null,
       "right": null,
       "top": null,
       "visibility": null,
       "width": "auto"
      }
     },
     "ce4973eae5194ac2bafac40494ab3844": {
      "model_module": "@jupyter-widgets/controls",
      "model_module_version": "2.0.0",
      "model_name": "TextModel",
      "state": {
       "_dom_classes": [],
       "_model_module": "@jupyter-widgets/controls",
       "_model_module_version": "2.0.0",
       "_model_name": "TextModel",
       "_view_count": null,
       "_view_module": "@jupyter-widgets/controls",
       "_view_module_version": "2.0.0",
       "_view_name": "TextView",
       "continuous_update": true,
       "description": "money",
       "description_allow_html": false,
       "disabled": false,
       "layout": "IPY_MODEL_1e1efa400e6949e9abbac2d9ec744492",
       "placeholder": "ent one, ent two, ent three",
       "style": "IPY_MODEL_42ba22ed497e42acabc9ed8928c33c20",
       "tabbable": null,
       "tooltip": null,
       "value": ""
      }
     },
     "d7c068f875554eef8b1a3fc3b7014b63": {
      "model_module": "@jupyter-widgets/base",
      "model_module_version": "2.0.0",
      "model_name": "LayoutModel",
      "state": {
       "_model_module": "@jupyter-widgets/base",
       "_model_module_version": "2.0.0",
       "_model_name": "LayoutModel",
       "_view_count": null,
       "_view_module": "@jupyter-widgets/base",
       "_view_module_version": "2.0.0",
       "_view_name": "LayoutView",
       "align_content": null,
       "align_items": null,
       "align_self": null,
       "border_bottom": null,
       "border_left": null,
       "border_right": null,
       "border_top": null,
       "bottom": null,
       "display": null,
       "flex": null,
       "flex_flow": null,
       "grid_area": null,
       "grid_auto_columns": null,
       "grid_auto_flow": null,
       "grid_auto_rows": null,
       "grid_column": null,
       "grid_gap": null,
       "grid_row": null,
       "grid_template_areas": null,
       "grid_template_columns": null,
       "grid_template_rows": null,
       "height": null,
       "justify_content": null,
       "justify_items": null,
       "left": null,
       "margin": null,
       "max_height": null,
       "max_width": null,
       "min_height": null,
       "min_width": null,
       "object_fit": null,
       "object_position": null,
       "order": null,
       "overflow": null,
       "padding": null,
       "right": null,
       "top": null,
       "visibility": null,
       "width": null
      }
     },
     "e8422ec40d414543bcf09d37b70eb455": {
      "model_module": "@jupyter-widgets/base",
      "model_module_version": "2.0.0",
      "model_name": "LayoutModel",
      "state": {
       "_model_module": "@jupyter-widgets/base",
       "_model_module_version": "2.0.0",
       "_model_name": "LayoutModel",
       "_view_count": null,
       "_view_module": "@jupyter-widgets/base",
       "_view_module_version": "2.0.0",
       "_view_name": "LayoutView",
       "align_content": null,
       "align_items": null,
       "align_self": null,
       "border_bottom": null,
       "border_left": null,
       "border_right": null,
       "border_top": null,
       "bottom": null,
       "display": null,
       "flex": null,
       "flex_flow": null,
       "grid_area": null,
       "grid_auto_columns": null,
       "grid_auto_flow": null,
       "grid_auto_rows": null,
       "grid_column": null,
       "grid_gap": null,
       "grid_row": null,
       "grid_template_areas": null,
       "grid_template_columns": null,
       "grid_template_rows": null,
       "height": null,
       "justify_content": null,
       "justify_items": null,
       "left": null,
       "margin": null,
       "max_height": null,
       "max_width": null,
       "min_height": null,
       "min_width": null,
       "object_fit": null,
       "object_position": null,
       "order": null,
       "overflow": null,
       "padding": null,
       "right": null,
       "top": null,
       "visibility": null,
       "width": null
      }
     },
     "eff27ef7ddcf44b9a0130c8756fe55f2": {
      "model_module": "@jupyter-widgets/controls",
      "model_module_version": "2.0.0",
      "model_name": "ButtonModel",
      "state": {
       "_dom_classes": [],
       "_model_module": "@jupyter-widgets/controls",
       "_model_module_version": "2.0.0",
       "_model_name": "ButtonModel",
       "_view_count": null,
       "_view_module": "@jupyter-widgets/controls",
       "_view_module_version": "2.0.0",
       "_view_name": "ButtonView",
       "button_style": "",
       "description": "finish",
       "disabled": false,
       "icon": "",
       "layout": "IPY_MODEL_1a072545037f44eda1b430af18297234",
       "style": "IPY_MODEL_fc10cd89faa9427d904dd9cc4ff9e617",
       "tabbable": null,
       "tooltip": null
      }
     },
     "f566de6373d34b7099f2760c2606eb52": {
      "model_module": "@jupyter-widgets/controls",
      "model_module_version": "2.0.0",
      "model_name": "HTMLModel",
      "state": {
       "_dom_classes": [],
       "_model_module": "@jupyter-widgets/controls",
       "_model_module_version": "2.0.0",
       "_model_name": "HTMLModel",
       "_view_count": null,
       "_view_module": "@jupyter-widgets/controls",
       "_view_module_version": "2.0.0",
       "_view_name": "HTMLView",
       "description": "",
       "description_allow_html": false,
       "layout": "IPY_MODEL_4c7080428a1949bab2630e736a88573f",
       "placeholder": "​",
       "style": "IPY_MODEL_883f4268d70742328ce8f1fd64dd0e3f",
       "tabbable": null,
       "tooltip": null,
       "value": ""
      }
     },
     "f7696b8fe30c4043b35709cae2936a22": {
      "model_module": "@jupyter-widgets/controls",
      "model_module_version": "2.0.0",
      "model_name": "TextStyleModel",
      "state": {
       "_model_module": "@jupyter-widgets/controls",
       "_model_module_version": "2.0.0",
       "_model_name": "TextStyleModel",
       "_view_count": null,
       "_view_module": "@jupyter-widgets/base",
       "_view_module_version": "2.0.0",
       "_view_name": "StyleView",
       "background": null,
       "description_width": "",
       "font_size": null,
       "text_color": null
      }
     },
     "f7cb53b824014268b9339d058642fdf7": {
      "model_module": "@jupyter-widgets/controls",
      "model_module_version": "2.0.0",
      "model_name": "ButtonStyleModel",
      "state": {
       "_model_module": "@jupyter-widgets/controls",
       "_model_module_version": "2.0.0",
       "_model_name": "ButtonStyleModel",
       "_view_count": null,
       "_view_module": "@jupyter-widgets/base",
       "_view_module_version": "2.0.0",
       "_view_name": "StyleView",
       "button_color": null,
       "font_family": null,
       "font_size": null,
       "font_style": null,
       "font_variant": null,
       "font_weight": null,
       "text_color": null,
       "text_decoration": null
      }
     },
     "f9f63fe889604ae189080cdc53165225": {
      "model_module": "@jupyter-widgets/controls",
      "model_module_version": "2.0.0",
      "model_name": "TextStyleModel",
      "state": {
       "_model_module": "@jupyter-widgets/controls",
       "_model_module_version": "2.0.0",
       "_model_name": "TextStyleModel",
       "_view_count": null,
       "_view_module": "@jupyter-widgets/base",
       "_view_module_version": "2.0.0",
       "_view_name": "StyleView",
       "background": null,
       "description_width": "",
       "font_size": null,
       "text_color": null
      }
     },
     "fb1adf5bae3f442cb288fb1f29bd14ba": {
      "model_module": "@jupyter-widgets/controls",
      "model_module_version": "2.0.0",
      "model_name": "TextModel",
      "state": {
       "_dom_classes": [],
       "_model_module": "@jupyter-widgets/controls",
       "_model_module_version": "2.0.0",
       "_model_name": "TextModel",
       "_view_count": null,
       "_view_module": "@jupyter-widgets/controls",
       "_view_module_version": "2.0.0",
       "_view_name": "TextView",
       "continuous_update": true,
       "description": "company",
       "description_allow_html": false,
       "disabled": false,
       "layout": "IPY_MODEL_823ee76cb0e64f5ab3ad8c2a13818e5c",
       "placeholder": "ent one, ent two, ent three",
       "style": "IPY_MODEL_f7696b8fe30c4043b35709cae2936a22",
       "tabbable": null,
       "tooltip": null,
       "value": ""
      }
     },
     "fc10cd89faa9427d904dd9cc4ff9e617": {
      "model_module": "@jupyter-widgets/controls",
      "model_module_version": "2.0.0",
      "model_name": "ButtonStyleModel",
      "state": {
       "_model_module": "@jupyter-widgets/controls",
       "_model_module_version": "2.0.0",
       "_model_name": "ButtonStyleModel",
       "_view_count": null,
       "_view_module": "@jupyter-widgets/base",
       "_view_module_version": "2.0.0",
       "_view_name": "StyleView",
       "button_color": null,
       "font_family": null,
       "font_size": null,
       "font_style": null,
       "font_variant": null,
       "font_weight": null,
       "text_color": null,
       "text_decoration": null
      }
     }
    },
    "version_major": 2,
    "version_minor": 0
   }
  }
 },
 "nbformat": 4,
 "nbformat_minor": 5
}
